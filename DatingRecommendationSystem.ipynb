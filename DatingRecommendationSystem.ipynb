{
 "cells": [
  {
   "cell_type": "code",
   "execution_count": 1,
   "metadata": {},
   "outputs": [],
   "source": [
    "import pandas as pd\n",
    "import numpy as np"
   ]
  },
  {
   "cell_type": "code",
   "execution_count": 2,
   "metadata": {},
   "outputs": [
    {
     "name": "stdout",
     "output_type": "stream",
     "text": [
      "   userid gender\n",
      "0       1      F\n",
      "1       2      F\n",
      "2       3      U\n",
      "3       4      F\n",
      "4       5      F\n",
      "220970\n"
     ]
    }
   ],
   "source": [
    "gender = pd.read_csv('D:/Data science/DatingRecommendationSystem/libimseti/gender.dat',names = ['userid','gender'],header=None)\n",
    "\n",
    "print(gender.head())\n",
    "\n",
    "print(len(gender))"
   ]
  },
  {
   "cell_type": "code",
   "execution_count": 3,
   "metadata": {},
   "outputs": [
    {
     "name": "stdout",
     "output_type": "stream",
     "text": [
      "   userid  profileid  rating\n",
      "0       1        133       8\n",
      "1       1        720       6\n",
      "2       1        971      10\n",
      "3       1       1095       7\n",
      "4       1       1616      10\n",
      "17359346\n"
     ]
    }
   ],
   "source": [
    "ratings = pd.read_csv('D:/Data science/DatingRecommendationSystem/libimseti/ratings.dat',names=['userid','profileid','rating'],header=None)\n",
    "\n",
    "print(ratings.head())\n",
    "\n",
    "print(len(ratings))"
   ]
  },
  {
   "cell_type": "code",
   "execution_count": 4,
   "metadata": {},
   "outputs": [
    {
     "name": "stdout",
     "output_type": "stream",
     "text": [
      "userid\n",
      "min id:  1\n",
      "max id:  135359\n",
      "\n",
      "\n",
      "profileid\n",
      "min id:  1\n",
      "max id:  220970\n"
     ]
    }
   ],
   "source": [
    "print('userid')\n",
    "print('min id: ',min(ratings['userid']))\n",
    "print('max id: ',max(ratings['userid']))\n",
    "print('\\n')\n",
    "\n",
    "print('profileid')\n",
    "print('min id: ',min(ratings['profileid']))\n",
    "print('max id: ',max(ratings['profileid']))"
   ]
  },
  {
   "cell_type": "code",
   "execution_count": 5,
   "metadata": {},
   "outputs": [
    {
     "name": "stdout",
     "output_type": "stream",
     "text": [
      "   userid  profileid  rating gender\n",
      "0       1        133       8      F\n",
      "1       1        720       6      F\n",
      "2       1        971      10      F\n",
      "3       1       1095       7      F\n",
      "4       1       1616      10      F\n",
      "17359346\n"
     ]
    }
   ],
   "source": [
    "merged = ratings.merge(gender,on='userid',how='left')\n",
    "\n",
    "print(merged.head())\n",
    "print(len(merged))"
   ]
  },
  {
   "cell_type": "code",
   "execution_count": 6,
   "metadata": {},
   "outputs": [
    {
     "data": {
      "text/html": [
       "<div>\n",
       "<style scoped>\n",
       "    .dataframe tbody tr th:only-of-type {\n",
       "        vertical-align: middle;\n",
       "    }\n",
       "\n",
       "    .dataframe tbody tr th {\n",
       "        vertical-align: top;\n",
       "    }\n",
       "\n",
       "    .dataframe thead th {\n",
       "        text-align: right;\n",
       "    }\n",
       "</style>\n",
       "<table border=\"1\" class=\"dataframe\">\n",
       "  <thead>\n",
       "    <tr style=\"text-align: right;\">\n",
       "      <th></th>\n",
       "      <th>userid</th>\n",
       "      <th>profileid</th>\n",
       "      <th>rating</th>\n",
       "      <th>user_gender</th>\n",
       "    </tr>\n",
       "  </thead>\n",
       "  <tbody>\n",
       "    <tr>\n",
       "      <th>0</th>\n",
       "      <td>1</td>\n",
       "      <td>133</td>\n",
       "      <td>8</td>\n",
       "      <td>F</td>\n",
       "    </tr>\n",
       "    <tr>\n",
       "      <th>1</th>\n",
       "      <td>1</td>\n",
       "      <td>720</td>\n",
       "      <td>6</td>\n",
       "      <td>F</td>\n",
       "    </tr>\n",
       "    <tr>\n",
       "      <th>2</th>\n",
       "      <td>1</td>\n",
       "      <td>971</td>\n",
       "      <td>10</td>\n",
       "      <td>F</td>\n",
       "    </tr>\n",
       "    <tr>\n",
       "      <th>3</th>\n",
       "      <td>1</td>\n",
       "      <td>1095</td>\n",
       "      <td>7</td>\n",
       "      <td>F</td>\n",
       "    </tr>\n",
       "    <tr>\n",
       "      <th>4</th>\n",
       "      <td>1</td>\n",
       "      <td>1616</td>\n",
       "      <td>10</td>\n",
       "      <td>F</td>\n",
       "    </tr>\n",
       "  </tbody>\n",
       "</table>\n",
       "</div>"
      ],
      "text/plain": [
       "   userid  profileid  rating user_gender\n",
       "0       1        133       8           F\n",
       "1       1        720       6           F\n",
       "2       1        971      10           F\n",
       "3       1       1095       7           F\n",
       "4       1       1616      10           F"
      ]
     },
     "execution_count": 6,
     "metadata": {},
     "output_type": "execute_result"
    }
   ],
   "source": [
    "merged = merged.rename({'gender':'user_gender'},axis=1)\n",
    "\n",
    "merged.head()"
   ]
  },
  {
   "cell_type": "code",
   "execution_count": 7,
   "metadata": {},
   "outputs": [
    {
     "data": {
      "text/html": [
       "<div>\n",
       "<style scoped>\n",
       "    .dataframe tbody tr th:only-of-type {\n",
       "        vertical-align: middle;\n",
       "    }\n",
       "\n",
       "    .dataframe tbody tr th {\n",
       "        vertical-align: top;\n",
       "    }\n",
       "\n",
       "    .dataframe thead th {\n",
       "        text-align: right;\n",
       "    }\n",
       "</style>\n",
       "<table border=\"1\" class=\"dataframe\">\n",
       "  <thead>\n",
       "    <tr style=\"text-align: right;\">\n",
       "      <th></th>\n",
       "      <th>userid_x</th>\n",
       "      <th>profileid</th>\n",
       "      <th>rating</th>\n",
       "      <th>user_gender</th>\n",
       "      <th>userid_y</th>\n",
       "      <th>profile_gender</th>\n",
       "    </tr>\n",
       "  </thead>\n",
       "  <tbody>\n",
       "    <tr>\n",
       "      <th>0</th>\n",
       "      <td>1</td>\n",
       "      <td>133</td>\n",
       "      <td>8</td>\n",
       "      <td>F</td>\n",
       "      <td>133</td>\n",
       "      <td>M</td>\n",
       "    </tr>\n",
       "    <tr>\n",
       "      <th>1</th>\n",
       "      <td>1</td>\n",
       "      <td>720</td>\n",
       "      <td>6</td>\n",
       "      <td>F</td>\n",
       "      <td>720</td>\n",
       "      <td>F</td>\n",
       "    </tr>\n",
       "    <tr>\n",
       "      <th>2</th>\n",
       "      <td>1</td>\n",
       "      <td>971</td>\n",
       "      <td>10</td>\n",
       "      <td>F</td>\n",
       "      <td>971</td>\n",
       "      <td>M</td>\n",
       "    </tr>\n",
       "    <tr>\n",
       "      <th>3</th>\n",
       "      <td>1</td>\n",
       "      <td>1095</td>\n",
       "      <td>7</td>\n",
       "      <td>F</td>\n",
       "      <td>1095</td>\n",
       "      <td>M</td>\n",
       "    </tr>\n",
       "    <tr>\n",
       "      <th>4</th>\n",
       "      <td>1</td>\n",
       "      <td>1616</td>\n",
       "      <td>10</td>\n",
       "      <td>F</td>\n",
       "      <td>1616</td>\n",
       "      <td>M</td>\n",
       "    </tr>\n",
       "  </tbody>\n",
       "</table>\n",
       "</div>"
      ],
      "text/plain": [
       "   userid_x  profileid  rating user_gender  userid_y profile_gender\n",
       "0         1        133       8           F       133              M\n",
       "1         1        720       6           F       720              F\n",
       "2         1        971      10           F       971              M\n",
       "3         1       1095       7           F      1095              M\n",
       "4         1       1616      10           F      1616              M"
      ]
     },
     "execution_count": 7,
     "metadata": {},
     "output_type": "execute_result"
    }
   ],
   "source": [
    "merged = merged.merge(gender,left_on='profileid',right_on='userid',how='left')\n",
    "\n",
    "merged = merged.rename({'gender':'profile_gender'},axis=1)\n",
    "\n",
    "merged.head()"
   ]
  },
  {
   "cell_type": "code",
   "execution_count": 8,
   "metadata": {},
   "outputs": [
    {
     "data": {
      "text/plain": [
       "17359346"
      ]
     },
     "execution_count": 8,
     "metadata": {},
     "output_type": "execute_result"
    }
   ],
   "source": [
    "len(merged)"
   ]
  },
  {
   "cell_type": "code",
   "execution_count": 9,
   "metadata": {},
   "outputs": [
    {
     "data": {
      "text/html": [
       "<div>\n",
       "<style scoped>\n",
       "    .dataframe tbody tr th:only-of-type {\n",
       "        vertical-align: middle;\n",
       "    }\n",
       "\n",
       "    .dataframe tbody tr th {\n",
       "        vertical-align: top;\n",
       "    }\n",
       "\n",
       "    .dataframe thead th {\n",
       "        text-align: right;\n",
       "    }\n",
       "</style>\n",
       "<table border=\"1\" class=\"dataframe\">\n",
       "  <thead>\n",
       "    <tr style=\"text-align: right;\">\n",
       "      <th></th>\n",
       "      <th>userid_x</th>\n",
       "      <th>profileid</th>\n",
       "      <th>rating</th>\n",
       "      <th>user_gender</th>\n",
       "      <th>profile_gender</th>\n",
       "    </tr>\n",
       "  </thead>\n",
       "  <tbody>\n",
       "    <tr>\n",
       "      <th>0</th>\n",
       "      <td>1</td>\n",
       "      <td>133</td>\n",
       "      <td>8</td>\n",
       "      <td>F</td>\n",
       "      <td>M</td>\n",
       "    </tr>\n",
       "    <tr>\n",
       "      <th>1</th>\n",
       "      <td>1</td>\n",
       "      <td>720</td>\n",
       "      <td>6</td>\n",
       "      <td>F</td>\n",
       "      <td>F</td>\n",
       "    </tr>\n",
       "    <tr>\n",
       "      <th>2</th>\n",
       "      <td>1</td>\n",
       "      <td>971</td>\n",
       "      <td>10</td>\n",
       "      <td>F</td>\n",
       "      <td>M</td>\n",
       "    </tr>\n",
       "    <tr>\n",
       "      <th>3</th>\n",
       "      <td>1</td>\n",
       "      <td>1095</td>\n",
       "      <td>7</td>\n",
       "      <td>F</td>\n",
       "      <td>M</td>\n",
       "    </tr>\n",
       "    <tr>\n",
       "      <th>4</th>\n",
       "      <td>1</td>\n",
       "      <td>1616</td>\n",
       "      <td>10</td>\n",
       "      <td>F</td>\n",
       "      <td>M</td>\n",
       "    </tr>\n",
       "  </tbody>\n",
       "</table>\n",
       "</div>"
      ],
      "text/plain": [
       "   userid_x  profileid  rating user_gender profile_gender\n",
       "0         1        133       8           F              M\n",
       "1         1        720       6           F              F\n",
       "2         1        971      10           F              M\n",
       "3         1       1095       7           F              M\n",
       "4         1       1616      10           F              M"
      ]
     },
     "execution_count": 9,
     "metadata": {},
     "output_type": "execute_result"
    }
   ],
   "source": [
    "merged = merged.drop('userid_y',axis=1)\n",
    "\n",
    "merged.head()"
   ]
  },
  {
   "cell_type": "code",
   "execution_count": 10,
   "metadata": {},
   "outputs": [
    {
     "data": {
      "text/html": [
       "<div>\n",
       "<style scoped>\n",
       "    .dataframe tbody tr th:only-of-type {\n",
       "        vertical-align: middle;\n",
       "    }\n",
       "\n",
       "    .dataframe tbody tr th {\n",
       "        vertical-align: top;\n",
       "    }\n",
       "\n",
       "    .dataframe thead th {\n",
       "        text-align: right;\n",
       "    }\n",
       "</style>\n",
       "<table border=\"1\" class=\"dataframe\">\n",
       "  <thead>\n",
       "    <tr style=\"text-align: right;\">\n",
       "      <th></th>\n",
       "      <th>userid</th>\n",
       "      <th>profileid</th>\n",
       "      <th>rating</th>\n",
       "      <th>user_gender</th>\n",
       "      <th>profile_gender</th>\n",
       "    </tr>\n",
       "  </thead>\n",
       "  <tbody>\n",
       "    <tr>\n",
       "      <th>0</th>\n",
       "      <td>1</td>\n",
       "      <td>133</td>\n",
       "      <td>8</td>\n",
       "      <td>F</td>\n",
       "      <td>M</td>\n",
       "    </tr>\n",
       "    <tr>\n",
       "      <th>1</th>\n",
       "      <td>1</td>\n",
       "      <td>720</td>\n",
       "      <td>6</td>\n",
       "      <td>F</td>\n",
       "      <td>F</td>\n",
       "    </tr>\n",
       "    <tr>\n",
       "      <th>2</th>\n",
       "      <td>1</td>\n",
       "      <td>971</td>\n",
       "      <td>10</td>\n",
       "      <td>F</td>\n",
       "      <td>M</td>\n",
       "    </tr>\n",
       "    <tr>\n",
       "      <th>3</th>\n",
       "      <td>1</td>\n",
       "      <td>1095</td>\n",
       "      <td>7</td>\n",
       "      <td>F</td>\n",
       "      <td>M</td>\n",
       "    </tr>\n",
       "    <tr>\n",
       "      <th>4</th>\n",
       "      <td>1</td>\n",
       "      <td>1616</td>\n",
       "      <td>10</td>\n",
       "      <td>F</td>\n",
       "      <td>M</td>\n",
       "    </tr>\n",
       "  </tbody>\n",
       "</table>\n",
       "</div>"
      ],
      "text/plain": [
       "   userid  profileid  rating user_gender profile_gender\n",
       "0       1        133       8           F              M\n",
       "1       1        720       6           F              F\n",
       "2       1        971      10           F              M\n",
       "3       1       1095       7           F              M\n",
       "4       1       1616      10           F              M"
      ]
     },
     "execution_count": 10,
     "metadata": {},
     "output_type": "execute_result"
    }
   ],
   "source": [
    "merged = merged.rename({'userid_x':'userid'},axis=1)\n",
    "\n",
    "merged.head()"
   ]
  },
  {
   "cell_type": "code",
   "execution_count": 11,
   "metadata": {},
   "outputs": [],
   "source": [
    "from sklearn.model_selection import train_test_split\n",
    "train_data, test_data = train_test_split(merged, test_size=0.25)"
   ]
  },
  {
   "cell_type": "code",
   "execution_count": 12,
   "metadata": {},
   "outputs": [
    {
     "name": "stdout",
     "output_type": "stream",
     "text": [
      "13019509\n",
      "4339837\n"
     ]
    }
   ],
   "source": [
    "print(len(train_data))\n",
    "print(len(test_data))"
   ]
  },
  {
   "cell_type": "code",
   "execution_count": 13,
   "metadata": {},
   "outputs": [
    {
     "data": {
      "text/plain": [
       "<map at 0x2b1813bfd88>"
      ]
     },
     "execution_count": 13,
     "metadata": {},
     "output_type": "execute_result"
    }
   ],
   "source": [
    "train_data.itertuples()"
   ]
  },
  {
   "cell_type": "code",
   "execution_count": 14,
   "metadata": {},
   "outputs": [
    {
     "name": "stdout",
     "output_type": "stream",
     "text": [
      "Pandas(Index=122490, userid=816, profileid=93458, rating=6, user_gender='F', profile_gender='M')\n",
      "122490\n",
      "816\n",
      "93458\n",
      "0\n",
      "Pandas(Index=14679755, userid=114598, profileid=78020, rating=5, user_gender='M', profile_gender='F')\n",
      "14679755\n",
      "114598\n",
      "78020\n",
      "1\n",
      "Pandas(Index=7855107, userid=61629, profileid=146192, rating=7, user_gender='F', profile_gender='U')\n",
      "7855107\n",
      "61629\n",
      "146192\n",
      "2\n",
      "Pandas(Index=2822509, userid=22623, profileid=145850, rating=1, user_gender='M', profile_gender='U')\n",
      "2822509\n",
      "22623\n",
      "145850\n",
      "3\n",
      "Pandas(Index=7007758, userid=55607, profileid=59872, rating=10, user_gender='F', profile_gender='M')\n",
      "7007758\n",
      "55607\n",
      "59872\n",
      "4\n",
      "Pandas(Index=6047924, userid=48160, profileid=69603, rating=10, user_gender='F', profile_gender='M')\n",
      "6047924\n",
      "48160\n",
      "69603\n",
      "5\n",
      "Pandas(Index=2751792, userid=22143, profileid=127525, rating=2, user_gender='M', profile_gender='F')\n",
      "2751792\n",
      "22143\n",
      "127525\n",
      "6\n"
     ]
    }
   ],
   "source": [
    "i = 0\n",
    "\n",
    "for line in train_data.itertuples():\n",
    "    print(line)\n",
    "    print(line[0])\n",
    "    print(line[1])\n",
    "    print(line[2])\n",
    "    print(i)\n",
    "    if i > 5:\n",
    "        break\n",
    "    i += 1"
   ]
  },
  {
   "cell_type": "code",
   "execution_count": 15,
   "metadata": {},
   "outputs": [
    {
     "name": "stdout",
     "output_type": "stream",
     "text": [
      "135359\n",
      "220970\n"
     ]
    }
   ],
   "source": [
    "n_comment = max(merged.userid)\n",
    "\n",
    "n_receive = max(merged.profileid)\n",
    "\n",
    "print(n_comment)\n",
    "print(n_receive)"
   ]
  },
  {
   "cell_type": "code",
   "execution_count": 16,
   "metadata": {},
   "outputs": [],
   "source": [
    "from scipy import sparse\n",
    "from scipy.sparse import coo_matrix"
   ]
  },
  {
   "cell_type": "code",
   "execution_count": 17,
   "metadata": {},
   "outputs": [
    {
     "data": {
      "text/plain": [
       "<135359x220970 sparse matrix of type '<class 'numpy.int32'>'\n",
       "\twith 13019509 stored elements in COOrdinate format>"
      ]
     },
     "execution_count": 17,
     "metadata": {},
     "output_type": "execute_result"
    }
   ],
   "source": [
    "train_data_col = []\n",
    "train_data_row = []\n",
    "train_data_value = []\n",
    "\n",
    "for line in train_data.itertuples():\n",
    "    train_data_row.append(line[1]-1)\n",
    "    train_data_col.append(line[2]-1)\n",
    "    train_data_value.append(line[3])\n",
    "    \n",
    "train_data_matrix = sparse.coo_matrix((train_data_value,(train_data_row,train_data_col)))\n",
    "\n",
    "train_data_matrix"
   ]
  },
  {
   "cell_type": "code",
   "execution_count": 18,
   "metadata": {},
   "outputs": [
    {
     "data": {
      "text/plain": [
       "<135359x220970 sparse matrix of type '<class 'numpy.int32'>'\n",
       "\twith 4339837 stored elements in COOrdinate format>"
      ]
     },
     "execution_count": 18,
     "metadata": {},
     "output_type": "execute_result"
    }
   ],
   "source": [
    "test_data_col = []\n",
    "test_data_row = []\n",
    "test_data_value = []\n",
    "\n",
    "for line in test_data.itertuples():\n",
    "    test_data_row.append(line[1]-1)\n",
    "    test_data_col.append(line[2]-1)\n",
    "    test_data_value.append(line[3])\n",
    "    \n",
    "test_data_matrix = sparse.coo_matrix((test_data_value,(test_data_row,test_data_col)))\n",
    "\n",
    "test_data_matrix"
   ]
  },
  {
   "cell_type": "code",
   "execution_count": 19,
   "metadata": {},
   "outputs": [
    {
     "name": "stdout",
     "output_type": "stream",
     "text": [
      "The sparsity level of Dating Dataset is 99.9%\n"
     ]
    }
   ],
   "source": [
    "sparsity=round(1.0-len(merged)/float(n_comment*n_receive),3)\n",
    "print('The sparsity level of Dating Dataset is ' +  str(sparsity*100) + '%')"
   ]
  },
  {
   "cell_type": "code",
   "execution_count": 20,
   "metadata": {},
   "outputs": [
    {
     "data": {
      "text/plain": [
       "168791"
      ]
     },
     "execution_count": 20,
     "metadata": {},
     "output_type": "execute_result"
    }
   ],
   "source": [
    "merged.profileid.nunique()"
   ]
  },
  {
   "cell_type": "code",
   "execution_count": 21,
   "metadata": {},
   "outputs": [],
   "source": [
    "# train_data_csr = train_data_matrix.tocsr()\n",
    "# train_data_csr\n",
    "\n",
    "# test_data_csr = test_data_matrix.tocsr()\n",
    "# train_data_csr"
   ]
  },
  {
   "cell_type": "code",
   "execution_count": 22,
   "metadata": {},
   "outputs": [],
   "source": [
    "from scipy.sparse.linalg import svds\n",
    "\n",
    "train_data_matrix = train_data_matrix.asfptype()\n",
    "test_data_matrix = test_data_matrix.asfptype()\n",
    "\n",
    "#get SVD components from train matrix. Choose k.\n",
    "u, s, vt = svds(train_data_matrix)\n"
   ]
  },
  {
   "cell_type": "code",
   "execution_count": 23,
   "metadata": {},
   "outputs": [
    {
     "data": {
      "text/plain": [
       "array([[-6.86792968e-05, -5.41493231e-03,  1.99105814e-03,\n",
       "         5.70152352e-03, -5.00558228e-05,  6.74854834e-03],\n",
       "       [-2.55635720e-05, -5.23787886e-04,  2.27608404e-03,\n",
       "         4.34109276e-03,  2.19218649e-03,  2.60901985e-03],\n",
       "       [ 1.97925695e-04,  1.39791159e-03,  5.91588667e-04,\n",
       "         8.76687075e-04,  1.01379649e-03,  6.26342131e-04],\n",
       "       ...,\n",
       "       [-4.23395319e-05, -6.09134027e-03,  1.63087029e-03,\n",
       "         6.33675967e-03,  1.23589032e-03,  7.32829504e-03],\n",
       "       [ 1.29324039e-05, -1.12718431e-04,  1.27454299e-04,\n",
       "        -1.44192746e-04,  1.00140130e-05,  2.19288259e-05],\n",
       "       [ 3.11305845e-03, -3.33089340e-03, -1.49102860e-03,\n",
       "         1.13260681e-03, -2.45634086e-03,  3.89214879e-03]])"
      ]
     },
     "execution_count": 23,
     "metadata": {},
     "output_type": "execute_result"
    }
   ],
   "source": [
    "u"
   ]
  },
  {
   "cell_type": "code",
   "execution_count": 24,
   "metadata": {},
   "outputs": [
    {
     "data": {
      "text/plain": [
       "array([2140.36496607, 2164.6437929 , 2482.91044001, 2574.67417578,\n",
       "       3369.28074189, 4331.03336794])"
      ]
     },
     "execution_count": 24,
     "metadata": {},
     "output_type": "execute_result"
    }
   ],
   "source": [
    "s"
   ]
  },
  {
   "cell_type": "code",
   "execution_count": 25,
   "metadata": {},
   "outputs": [
    {
     "data": {
      "text/plain": [
       "array([[-2.60143913e-04, -8.67534773e-04,  0.00000000e+00, ...,\n",
       "         7.75916625e-07,  8.05110523e-07,  5.65580196e-05],\n",
       "       [ 6.28926794e-05,  2.13651571e-03,  0.00000000e+00, ...,\n",
       "        -3.45915559e-07, -2.87512398e-07, -2.96994237e-05],\n",
       "       [ 6.16583751e-04,  1.25067322e-03,  0.00000000e+00, ...,\n",
       "         1.34355473e-06,  1.04102323e-06, -1.72927419e-05],\n",
       "       [-4.97424406e-04, -2.89032261e-03,  0.00000000e+00, ...,\n",
       "        -6.90721461e-07, -7.58091550e-07,  8.81441309e-06],\n",
       "       [-1.45967940e-04, -1.53610936e-03,  0.00000000e+00, ...,\n",
       "        -6.68491188e-08, -1.41190177e-07, -1.54909920e-05],\n",
       "       [ 1.87656069e-04,  1.75217256e-03,  0.00000000e+00, ...,\n",
       "         5.69895605e-08,  1.80641328e-07,  2.43100272e-05]])"
      ]
     },
     "execution_count": 25,
     "metadata": {},
     "output_type": "execute_result"
    }
   ],
   "source": [
    "vt"
   ]
  },
  {
   "cell_type": "code",
   "execution_count": 26,
   "metadata": {},
   "outputs": [
    {
     "data": {
      "text/plain": [
       "<135359x6 sparse matrix of type '<class 'numpy.float64'>'\n",
       "\twith 812154 stored elements in COOrdinate format>"
      ]
     },
     "execution_count": 26,
     "metadata": {},
     "output_type": "execute_result"
    }
   ],
   "source": [
    "u = sparse.coo_matrix(u)\n",
    "u"
   ]
  },
  {
   "cell_type": "code",
   "execution_count": 27,
   "metadata": {},
   "outputs": [
    {
     "data": {
      "text/plain": [
       "<6x6 sparse matrix of type '<class 'numpy.float64'>'\n",
       "\twith 6 stored elements in COOrdinate format>"
      ]
     },
     "execution_count": 27,
     "metadata": {},
     "output_type": "execute_result"
    }
   ],
   "source": [
    "s_diag = sparse.coo_matrix(np.diag(s))\n",
    "s_diag"
   ]
  },
  {
   "cell_type": "code",
   "execution_count": 28,
   "metadata": {},
   "outputs": [
    {
     "data": {
      "text/plain": [
       "<6x220970 sparse matrix of type '<class 'numpy.float64'>'\n",
       "\twith 965808 stored elements in COOrdinate format>"
      ]
     },
     "execution_count": 28,
     "metadata": {},
     "output_type": "execute_result"
    }
   ],
   "source": [
    "vt = sparse.coo_matrix(vt)\n",
    "vt"
   ]
  },
  {
   "cell_type": "code",
   "execution_count": 29,
   "metadata": {},
   "outputs": [
    {
     "data": {
      "text/plain": [
       "<6x220970 sparse matrix of type '<class 'numpy.float64'>'\n",
       "\twith 965808 stored elements in Compressed Sparse Row format>"
      ]
     },
     "execution_count": 29,
     "metadata": {},
     "output_type": "execute_result"
    }
   ],
   "source": [
    "u = u.tocsr()\n",
    "s_diag = s_diag.tocsr()\n",
    "vt = vt.tocsr()\n",
    "\n",
    "vt"
   ]
  },
  {
   "cell_type": "code",
   "execution_count": 30,
   "metadata": {},
   "outputs": [],
   "source": [
    "from sklearn.metrics import mean_squared_error\n",
    "from math import sqrt\n",
    "def rmse(prediction, ground_truth):\n",
    "    prediction = prediction[ground_truth.nonzero()].flatten() \n",
    "    ground_truth = ground_truth[ground_truth.nonzero()].flatten()\n",
    "    return sqrt(mean_squared_error(prediction, ground_truth))"
   ]
  },
  {
   "cell_type": "code",
   "execution_count": 31,
   "metadata": {},
   "outputs": [
    {
     "data": {
      "text/plain": [
       "<1x1 sparse matrix of type '<class 'numpy.intc'>'\n",
       "\twith 1 stored elements in Compressed Sparse Row format>"
      ]
     },
     "execution_count": 31,
     "metadata": {},
     "output_type": "execute_result"
    }
   ],
   "source": [
    "a = np.array([1,2,3,4])\n",
    "a = sparse.coo_matrix(a)\n",
    "\n",
    "np.dot(a,a.T)"
   ]
  },
  {
   "cell_type": "code",
   "execution_count": 32,
   "metadata": {},
   "outputs": [
    {
     "data": {
      "text/plain": [
       "<135359x6 sparse matrix of type '<class 'numpy.float64'>'\n",
       "\twith 812154 stored elements in Compressed Sparse Row format>"
      ]
     },
     "execution_count": 32,
     "metadata": {},
     "output_type": "execute_result"
    }
   ],
   "source": [
    "first_dot = np.dot(u, s_diag)\n",
    "first_dot"
   ]
  },
  {
   "cell_type": "code",
   "execution_count": 33,
   "metadata": {},
   "outputs": [
    {
     "data": {
      "text/plain": [
       "0.0"
      ]
     },
     "execution_count": 33,
     "metadata": {},
     "output_type": "execute_result"
    }
   ],
   "source": [
    "test_data_matrix = test_data_matrix.tocsr()\n",
    "test_data_matrix[0,0]"
   ]
  },
  {
   "cell_type": "code",
   "execution_count": 34,
   "metadata": {},
   "outputs": [
    {
     "data": {
      "text/plain": [
       "(135359, 220970)"
      ]
     },
     "execution_count": 34,
     "metadata": {},
     "output_type": "execute_result"
    }
   ],
   "source": [
    "test_data_matrix.shape"
   ]
  },
  {
   "cell_type": "code",
   "execution_count": 35,
   "metadata": {},
   "outputs": [
    {
     "data": {
      "text/plain": [
       "0.002136515707716011"
      ]
     },
     "execution_count": 35,
     "metadata": {},
     "output_type": "execute_result"
    }
   ],
   "source": [
    "vt[1,1]"
   ]
  },
  {
   "cell_type": "code",
   "execution_count": 36,
   "metadata": {},
   "outputs": [
    {
     "data": {
      "text/plain": [
       "2164.64379290305"
      ]
     },
     "execution_count": 36,
     "metadata": {},
     "output_type": "execute_result"
    }
   ],
   "source": [
    "s_diag[1,1]"
   ]
  },
  {
   "cell_type": "code",
   "execution_count": 37,
   "metadata": {},
   "outputs": [
    {
     "data": {
      "text/plain": [
       "array([[-0.05471537, -1.1338142 ,  5.65131284, 11.17689942,  7.38609173,\n",
       "        11.29975204]])"
      ]
     },
     "execution_count": 37,
     "metadata": {},
     "output_type": "execute_result"
    }
   ],
   "source": [
    "first_dot[1,:].toarray()"
   ]
  },
  {
   "cell_type": "code",
   "execution_count": 38,
   "metadata": {},
   "outputs": [
    {
     "data": {
      "text/plain": [
       "[1, 2]"
      ]
     },
     "execution_count": 38,
     "metadata": {},
     "output_type": "execute_result"
    }
   ],
   "source": [
    "X_pred_row = []\n",
    "X_pred_row.append(1)\n",
    "X_pred_row.append(2)\n",
    "\n",
    "X_pred_row"
   ]
  },
  {
   "cell_type": "code",
   "execution_count": 39,
   "metadata": {},
   "outputs": [],
   "source": [
    "row = test_data_matrix.shape[0]\n",
    "col = test_data_matrix.shape[1]"
   ]
  },
  {
   "cell_type": "code",
   "execution_count": 40,
   "metadata": {},
   "outputs": [
    {
     "data": {
      "text/plain": [
       "136"
      ]
     },
     "execution_count": 40,
     "metadata": {},
     "output_type": "execute_result"
    }
   ],
   "source": [
    "max_row = round(row/1000)+1\n",
    "max_row"
   ]
  },
  {
   "cell_type": "code",
   "execution_count": 41,
   "metadata": {},
   "outputs": [
    {
     "data": {
      "text/plain": [
       "<0x220970 sparse matrix of type '<class 'numpy.float64'>'\n",
       "\twith 0 stored elements in Compressed Sparse Row format>"
      ]
     },
     "execution_count": 41,
     "metadata": {},
     "output_type": "execute_result"
    }
   ],
   "source": [
    "int_dot = sparse.csr_matrix(([],([],[])),shape=(0,220970))\n",
    "\n",
    "int_dot"
   ]
  },
  {
   "cell_type": "code",
   "execution_count": 42,
   "metadata": {},
   "outputs": [
    {
     "name": "stdout",
     "output_type": "stream",
     "text": [
      "0\n",
      "1\n",
      "2\n",
      "3\n",
      "4\n",
      "5\n",
      "6\n",
      "7\n",
      "8\n",
      "9\n",
      "10\n",
      "11\n",
      "12\n",
      "13\n",
      "14\n",
      "15\n",
      "16\n",
      "17\n",
      "18\n",
      "19\n",
      "20\n",
      "21\n",
      "22\n",
      "23\n",
      "24\n",
      "25\n",
      "26\n",
      "27\n",
      "28\n",
      "29\n",
      "30\n",
      "31\n",
      "32\n",
      "33\n",
      "34\n",
      "35\n",
      "36\n",
      "37\n",
      "38\n",
      "39\n",
      "40\n",
      "41\n",
      "42\n",
      "43\n",
      "44\n",
      "45\n",
      "46\n",
      "47\n",
      "48\n",
      "49\n",
      "50\n",
      "51\n",
      "52\n",
      "53\n",
      "54\n",
      "55\n",
      "56\n",
      "57\n",
      "58\n",
      "59\n",
      "60\n",
      "61\n",
      "62\n",
      "63\n",
      "64\n",
      "65\n",
      "66\n",
      "67\n",
      "68\n",
      "69\n",
      "70\n",
      "71\n",
      "72\n",
      "73\n",
      "74\n",
      "75\n",
      "76\n",
      "77\n",
      "78\n",
      "79\n",
      "80\n",
      "81\n",
      "82\n",
      "83\n",
      "84\n",
      "85\n",
      "86\n",
      "87\n",
      "88\n",
      "89\n",
      "90\n",
      "91\n",
      "92\n",
      "93\n",
      "94\n",
      "95\n",
      "96\n",
      "97\n",
      "98\n",
      "99\n",
      "100\n",
      "101\n",
      "102\n",
      "103\n",
      "104\n",
      "105\n",
      "106\n",
      "107\n",
      "108\n",
      "109\n",
      "110\n",
      "111\n",
      "112\n",
      "113\n",
      "114\n",
      "115\n",
      "116\n",
      "117\n",
      "118\n",
      "119\n",
      "120\n",
      "121\n",
      "122\n",
      "123\n",
      "124\n",
      "125\n",
      "126\n",
      "127\n",
      "128\n",
      "129\n",
      "130\n",
      "131\n",
      "132\n",
      "133\n",
      "134\n",
      "135\n"
     ]
    },
    {
     "data": {
      "text/plain": [
       "<135359x220970 sparse matrix of type '<class 'numpy.float64'>'\n",
       "\twith 7193696 stored elements in Compressed Sparse Row format>"
      ]
     },
     "execution_count": 42,
     "metadata": {},
     "output_type": "execute_result"
    }
   ],
   "source": [
    "for i in range(0,max_row):\n",
    "  tmp_dot = first_dot[i*1000:(i+1)*1000,:].dot(vt)\n",
    "  tmp_dot = tmp_dot.astype(int)\n",
    "  tmp_dot_array = tmp_dot.toarray()\n",
    "  tmp_dot = sparse.csr_matrix(tmp_dot_array)\n",
    "  int_dot = sparse.vstack((int_dot, tmp_dot))\n",
    "  print(i)\n",
    "int_dot"
   ]
  },
  {
   "cell_type": "code",
   "execution_count": 43,
   "metadata": {},
   "outputs": [
    {
     "name": "stdout",
     "output_type": "stream",
     "text": [
      "135359\n",
      "220970\n"
     ]
    }
   ],
   "source": [
    "print(row)\n",
    "print(col)"
   ]
  },
  {
   "cell_type": "code",
   "execution_count": 44,
   "metadata": {},
   "outputs": [
    {
     "data": {
      "text/plain": [
       "0.0"
      ]
     },
     "execution_count": 44,
     "metadata": {},
     "output_type": "execute_result"
    }
   ],
   "source": [
    "test_data_matrix[0,0]"
   ]
  },
  {
   "cell_type": "code",
   "execution_count": 45,
   "metadata": {},
   "outputs": [
    {
     "name": "stdout",
     "output_type": "stream",
     "text": [
      "CF MSE: 6.418607407408945\n"
     ]
    }
   ],
   "source": [
    "X_pred = int_dot\n",
    "\n",
    "print('CF MSE: ' + str(rmse(X_pred, test_data_matrix)))"
   ]
  },
  {
   "cell_type": "code",
   "execution_count": 55,
   "metadata": {},
   "outputs": [
    {
     "data": {
      "text/plain": [
       "<135359x220970 sparse matrix of type '<class 'numpy.float64'>'\n",
       "\twith 4339837 stored elements in Compressed Sparse Row format>"
      ]
     },
     "execution_count": 55,
     "metadata": {},
     "output_type": "execute_result"
    }
   ],
   "source": [
    "test_data_matrix"
   ]
  },
  {
   "cell_type": "code",
   "execution_count": 56,
   "metadata": {},
   "outputs": [
    {
     "name": "stdout",
     "output_type": "stream",
     "text": [
      "Done with  CF MSE: 6.418607407408945\n"
     ]
    }
   ],
   "source": [
    "print('Done with ','CF MSE: ' + str(rmse(X_pred, test_data_matrix)))"
   ]
  }
 ],
 "metadata": {
  "kernelspec": {
   "display_name": "Python 3",
   "language": "python",
   "name": "python3"
  },
  "language_info": {
   "codemirror_mode": {
    "name": "ipython",
    "version": 3
   },
   "file_extension": ".py",
   "mimetype": "text/x-python",
   "name": "python",
   "nbconvert_exporter": "python",
   "pygments_lexer": "ipython3",
   "version": "3.7.6"
  }
 },
 "nbformat": 4,
 "nbformat_minor": 4
}
